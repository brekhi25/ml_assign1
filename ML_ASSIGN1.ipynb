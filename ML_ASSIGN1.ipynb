{
 "cells": [
  {
   "cell_type": "code",
   "execution_count": 42,
   "metadata": {},
   "outputs": [
    {
     "name": "stdout",
     "output_type": "stream",
     "text": [
      "Enter  your name: bandana\n",
      "Enter your age: 22\n",
      "Hello bandana, you will turn 100 years old in 2099\n",
      "Enter number of times you want to print message copy: 4\n",
      "Hello bandana, you will turn 100 years old in 2099\n",
      "Hello bandana, you will turn 100 years old in 2099\n",
      "Hello bandana, you will turn 100 years old in 2099\n",
      "Hello bandana, you will turn 100 years old in 2099\n",
      "\n"
     ]
    }
   ],
   "source": [
    "#q1\n",
    "from datetime import datetime\n",
    "name = str(input('Enter  your name: '))\n",
    "age = int(input('Enter your age: '))\n",
    "hundred_year = (100-age) + (datetime.now().year)\n",
    "print ('Hello ' +name+ ', you will turn 100 years old in ' +str(hundred_year))\n",
    "\n",
    "#printing out that many copies of the previous message\n",
    "number_of_copies = int(input('Enter number of times you want to print message copy: '))\n",
    "\n",
    "#message on separate lines.\n",
    "x =  ('Hello ' +name+ ', you will turn 100 years old in ' +str(hundred_year) + '\\n')\n",
    "a = ((number_of_copies)*x)\n",
    "print(a)\n"
   ]
  },
  {
   "cell_type": "code",
   "execution_count": 102,
   "metadata": {},
   "outputs": [
    {
     "name": "stdout",
     "output_type": "stream",
     "text": [
      "Elements lesser than 5 are:  1\n",
      "Elements lesser than 5 are:  1\n",
      "Elements lesser than 5 are:  2\n",
      "Elements lesser than 5 are:  3\n",
      "list of elements lesser than 5 is:  [1, 1, 2, 3]\n",
      "[1, 1, 2, 3]\n",
      "Select a number: 3\n",
      "[1, 1, 2]\n"
     ]
    }
   ],
   "source": [
    "#q2 prints out all the elements of the list that are less than 5.\n",
    "a = [1, 1, 2, 3, 5, 8, 13, 21, 34, 55, 89]\n",
    "for i in a:\n",
    "    if i < 5:\n",
    "        print('Elements lesser than 5 are: ',i)\n",
    "\n",
    "# new list that has all the elements less than 5\n",
    "a = [1, 1, 2, 3, 5, 8, 13, 21, 34, 55, 89]\n",
    "new_list = []\n",
    "for i in a:\n",
    "    if i < 5:\n",
    "        new_list.append(i)\n",
    "print(\"list of elements lesser than 5 is: \",new_list)\n",
    "\n",
    "#Write this in one line of Python. \n",
    "a = [1, 1, 2, 3, 5, 8, 13, 21, 34, 55, 89]\n",
    "new_list_1 = []\n",
    "[new_list_1.append(i) for i in a if i < 5]\n",
    "print(new_list_1)\n",
    "\n",
    "#return a list that contains only elements\n",
    "a = [1, 1, 2, 3, 5, 8, 13, 21, 34, 55, 89]\n",
    "new_list_2 = []\n",
    "user_input = int(input('Select a number: '))\n",
    "[new_list_2.append(i) for i in a if i < user_input]\n",
    "print(new_list_2)\n"
   ]
  },
  {
   "cell_type": "code",
   "execution_count": 108,
   "metadata": {},
   "outputs": [
    {
     "name": "stdout",
     "output_type": "stream",
     "text": [
      "Please enter how many numbers would you like in your Fibonacci sequence: 5\n",
      "[1, 1, 2, 3, 5]\n"
     ]
    }
   ],
   "source": [
    "#q3 The Fibonacci seqence is a sequence of numbers\n",
    "\n",
    "def fibonacci():\n",
    "    num = int(input(\"Enter the number for sequence: \"))\n",
    "    i = 1\n",
    "    if num == 0:\n",
    "        fib = []\n",
    "    else if num == 1:\n",
    "        fib = [1]\n",
    "    else if num == 2:\n",
    "        fib = [1,1]\n",
    "    else if num > 2:\n",
    "        fib = [1,1]\n",
    "        while i < (num - 1):\n",
    "            fib.append(fib[i] + fib[i-1])\n",
    "            i += 1\n",
    "    return fib\n",
    "print (fibonacci())\n"
   ]
  },
  {
   "cell_type": "code",
   "execution_count": 122,
   "metadata": {},
   "outputs": [
    {
     "name": "stdout",
     "output_type": "stream",
     "text": [
      "using loops: \n",
      "[2, 4, 10, 20, 5]\n",
      "using sets: \n",
      "2\n",
      "4\n",
      "5\n",
      "10\n",
      "20\n",
      "None\n"
     ]
    }
   ],
   "source": [
    "#q4 a list and returns a new list that contains all the elements of the first list minus all the duplicates.\n",
    "\n",
    "#one using a loop and constructing a list\n",
    "print(\"using loops: \")\n",
    "def Remove(duplicate):\n",
    "    final_list = []\n",
    "    for i in duplicate:\n",
    "        if i not in final_list:\n",
    "            final_list.append(i)\n",
    "    return final_list\n",
    "duplicate = [2, 4, 10, 20, 5, 2, 20, 4]\n",
    "print(Remove(duplicate))\n",
    "\n",
    "\n",
    "#using sets\n",
    "print(\"using sets: \")\n",
    "def using_set(lst):\n",
    "    list_set = set(lst)\n",
    "    unique_list = list(list_set)\n",
    "    for x in unique_list:\n",
    "      print(x)\n",
    "lst = [2, 4, 10, 20, 5, 2, 20, 4]\n",
    "print(using_set(lst))\n",
    "\n"
   ]
  },
  {
   "cell_type": "code",
   "execution_count": 117,
   "metadata": {},
   "outputs": [
    {
     "name": "stdout",
     "output_type": "stream",
     "text": [
      "Enter a number: 4\n",
      "4 is not a prime number\n",
      "2 times 2 is 4\n"
     ]
    }
   ],
   "source": [
    "#q5 and determine whether the number is prime or not\n",
    "a = int(input(\"Enter a number: \"))  \n",
    "  \n",
    "if a > 1:  \n",
    "   for i in range(2,a):  \n",
    "       if (a % i) == 0:  \n",
    "        print(a,\"is not a prime number\")  \n",
    "        print(i,\"times\",a//i,\"is\",a)  \n",
    "        break  \n",
    "    else:  \n",
    "    print(a,\"is a prime number\")  \n",
    "         \n",
    "    else:  \n",
    "    print(a,\"is not a prime number\")  "
   ]
  },
  {
   "cell_type": "code",
   "execution_count": null,
   "metadata": {},
   "outputs": [],
   "source": []
  }
 ],
 "metadata": {
  "kernelspec": {
   "display_name": "Python 3",
   "language": "python",
   "name": "python3"
  },
  "language_info": {
   "codemirror_mode": {
    "name": "ipython",
    "version": 3
   },
   "file_extension": ".py",
   "mimetype": "text/x-python",
   "name": "python",
   "nbconvert_exporter": "python",
   "pygments_lexer": "ipython3",
   "version": "3.8.5"
  }
 },
 "nbformat": 4,
 "nbformat_minor": 4
}
